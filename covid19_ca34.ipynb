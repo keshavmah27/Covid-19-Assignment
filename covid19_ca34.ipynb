{
 "cells": [
  {
   "cell_type": "code",
   "execution_count": 15,
   "metadata": {},
   "outputs": [
    {
     "name": "stdout",
     "output_type": "stream",
     "text": [
      "Enter the name of State  delhi\n"
     ]
    },
    {
     "data": {
      "image/png": "[encoded data removed]",
      "text/plain": [
       "<Figure size 432x288 with 1 Axes>"
      ]
     },
     "metadata": {
      "needs_background": "light"
     },
     "output_type": "display_data"
    }
   ],
   "source": [
    "import requests\n",
    "import numpy as np\n",
    "import pandas as pd\n",
    "import matplotlib.pyplot as plt\n",
    "from pandas.io.json import json_normalize\n",
    "URL = \"https://api.covid19india.org/raw_data.json\" \n",
    "data = requests.get(url=URL).json()\n",
    "df=pd.DataFrame(data['raw_data'])\n",
    "st=input(\"Enter the name of State  \")\n",
    "st2=st.capitalize()\n",
    "state=df[df[\"detectedstate\"]==st2]\n",
    "female=state[state[\"gender\"]==\"F\"]\n",
    "male=state[state[\"gender\"]==\"M\"]\n",
    "m_age=np.array(male['agebracket'])\n",
    "a1=0\n",
    "b1=0\n",
    "c1=0\n",
    "d1=0\n",
    "e1=0\n",
    "for i in m_age:\n",
    "    if i>'0' and i<='20':\n",
    "        a1+=1\n",
    "    elif i>'20' and i<='40':\n",
    "        b1+=1\n",
    "    elif i>'40' and i<='60':\n",
    "        c1+=1\n",
    "    elif i>'60' and i<='80':\n",
    "        d1+=1\n",
    "    else:\n",
    "        e1+=1\n",
    "male_age=[a1,b1,c1,d1,e1]\n",
    "f_age=np.array(female['agebracket'])\n",
    "a2=0\n",
    "b2=0\n",
    "c2=0\n",
    "d2=0\n",
    "e2=0\n",
    "for i in f_age:\n",
    "    if i>'0' and i<='20':\n",
    "        a2+=1\n",
    "    elif i>'20' and i<='40':\n",
    "        b2+=1\n",
    "    elif i>'40' and i<='60':\n",
    "        c2+=1\n",
    "    elif i>'60' and i<='80':\n",
    "        d2+=1\n",
    "    else:\n",
    "        e2+=1\n",
    "female_age=[a2,b2,c2,d2,e2]\n",
    "x=['0-20','21-40','41-60','61-80','81 to above']\n",
    "xpos=np.arange(len(x))\n",
    "plt.bar(xpos-0.2,male_age,width=0.4,label=\"Male\")\n",
    "plt.bar(xpos+0.2,female_age,width=0.4,label=\"Female\")\n",
    "plt.xticks(xpos,x)\n",
    "plt.xlabel(\"Age\")\n",
    "plt.ylabel(\"No. of cases\")\n",
    "plt.title(\"State: \"+st2)\n",
    "plt.legend()\n",
    "plt.show()    \n",
    "\n",
    "#In this visualisation we have a conclusion that in state of \n",
    "#delhi the range of pepole affcetd and\n",
    "#the orange color is  indicator of female and blue color \n",
    "#is indicator of male\n",
    "#in this according to the dataset we have created \n",
    "#the range of ages of both male and female"
   ]
  },
  {
   "cell_type": "code",
   "execution_count": 27,
   "metadata": {},
   "outputs": [
    {
     "data": {
      "image/png": "[encoded data removed]",
      "text/plain": [
       "<Figure size 432x288 with 1 Axes>"
      ]
     },
     "metadata": {
      "needs_background": "light"
     },
     "output_type": "display_data"
    }
   ],
   "source": [
    "import requests\n",
    "import numpy as np\n",
    "import pandas as pd\n",
    "import matplotlib.pyplot as plt\n",
    "from pandas.io.json import json_normalize\n",
    "URL = \"https://api.covid19india.org/raw_data.json\" \n",
    "data = requests.get(url=URL).json()\n",
    "sex=pd.DataFrame(data[\"raw_data\"])\n",
    "age=np.array(sex['agebracket'])\n",
    "a=0\n",
    "b=0\n",
    "c=0\n",
    "d=0\n",
    "for i in age:\n",
    "    if i>'0' and i<='20':\n",
    "        a+=1\n",
    "    elif i>'20' and i<='40':\n",
    "        b+=1\n",
    "    elif i>'40' and i<='60':\n",
    "        d+=1\n",
    "    else:\n",
    "        c+=1\n",
    "y=[a,b,c,d]\n",
    "x=['0-20','21-40','41-60','61 and above']\n",
    "plt.bar(x,y)\n",
    "plt.xlabel(\"AGE\")\n",
    "plt.ylabel(\"No. of Cases\")\n",
    "plt.title(\"No. of Cases w.r.t Age\")\n",
    "plt.show()\n",
    "\n",
    "#IN this In this visualisation we have a conclusion\n",
    "#that cases of age people who are in range \n",
    "#of 41-60 have the most affected one"
   ]
  },
  {
   "cell_type": "code",
   "execution_count": null,
   "metadata": {},
   "outputs": [],
   "source": []
  },
  {
   "cell_type": "code",
   "execution_count": null,
   "metadata": {},
   "outputs": [],
   "source": []
  },
  {
   "cell_type": "code",
   "execution_count": null,
   "metadata": {},
   "outputs": [],
   "source": []
  },
  {
   "cell_type": "code",
   "execution_count": null,
   "metadata": {},
   "outputs": [],
   "source": []
  },
  {
   "cell_type": "code",
   "execution_count": null,
   "metadata": {},
   "outputs": [],
   "source": []
  },
  {
   "cell_type": "code",
   "execution_count": null,
   "metadata": {},
   "outputs": [],
   "source": []
  },
  {
   "cell_type": "code",
   "execution_count": null,
   "metadata": {},
   "outputs": [],
   "source": []
  },
  {
   "cell_type": "code",
   "execution_count": null,
   "metadata": {},
   "outputs": [],
   "source": []
  },
  {
   "cell_type": "code",
   "execution_count": null,
   "metadata": {},
   "outputs": [],
   "source": []
  },
  {
   "cell_type": "code",
   "execution_count": null,
   "metadata": {},
   "outputs": [],
   "source": []
  },
  {
   "cell_type": "code",
   "execution_count": null,
   "metadata": {},
   "outputs": [],
   "source": []
  },
  {
   "cell_type": "code",
   "execution_count": null,
   "metadata": {},
   "outputs": [],
   "source": []
  }
 ],
 "metadata": {
  "kernelspec": {
   "display_name": "Python 3",
   "language": "python",
   "name": "python3"
  },
  "language_info": {
   "codemirror_mode": {
    "name": "ipython",
    "version": 3
   },
   "file_extension": ".py",
   "mimetype": "text/x-python",
   "name": "python",
   "nbconvert_exporter": "python",
   "pygments_lexer": "ipython3",
   "version": "3.7.3"
  }
 },
 "nbformat": 4,
 "nbformat_minor": 2
}
